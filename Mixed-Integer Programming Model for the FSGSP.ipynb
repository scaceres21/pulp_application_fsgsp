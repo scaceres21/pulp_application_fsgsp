{
 "cells": [
  {
   "cell_type": "markdown",
   "metadata": {},
   "source": [
    "## Mixed-Integer Programming Model for the FSGSP\n",
    "\n",
    "The following MIP formulation for the Flowshop Group Scheduling Problem (FSGSP) is taken from the Model 1 presented by Naderi and Salmasi (2012)."
   ]
  },
  {
   "cell_type": "markdown",
   "metadata": {},
   "source": [
    "$\\text{Parameters:}$\n",
    "\n",
    "- $n_{o}\\hspace{1.3em}\\text{the number of jobs}$\n",
    "\n",
    "- $m \\hspace{1.5em}\\text{the number of machines}$\n",
    "\n",
    "- $g \\hspace{1.7em}\\text{the number of groups}$\n",
    "\n",
    "- $G_{k} \\hspace{1em}\\text{a set including the jobs belonging to group }k\\in\\{1,2,...,g\\}$\n",
    "\n",
    "- $n_{k} \\hspace{1.2em}\\text{the number of jobs in group }k \\text{; that is } n_{k} = |G_{k}|$\n",
    "\n",
    "- $l, j \\hspace{1em}\\text{index for jobs; } l,j\\in\\{1,2,...,n_{o}\\}$ \n",
    "\n",
    "- $i \\hspace{1.7em}\\text{index for machines; } i\\in\\{1,2,...,m\\}$\n",
    "\n",
    "- $k, t \\hspace{0.8em}\\text{index for groups; } k,t\\in\\{1,2,...,g\\}$\n",
    "\n",
    "- $P_{ji}\\hspace{1em}\\text{the run time of job } j \\text{ on machine } i$\n",
    "\n",
    "- $a_{tki}\\hspace{0.8em}\\text{the setup time of group } k \\text{ if it is processed immediately after group } t \\text{ on machine } i$\n",
    "\n",
    "- $M\\hspace{1.2em}\\text{a large positive number}$"
   ]
  },
  {
   "cell_type": "markdown",
   "metadata": {},
   "source": [
    "$\\text{Decision variables:}$\n",
    "\n",
    "$X_{lj} = \\begin{cases}1 & \\text{if job } j \\text{ is processed after job } l\\\\0 & \\text{otherwise}\\end{cases}$\n",
    "\n",
    "$\\hspace{2em}\\forall k,j, l\\in G_{k}; j > l$\n",
    "\n",
    "\n",
    "$U_{tk} = \\begin{cases}1 & \\text{if group } k \\text{ is processed immediately after group } t\\\\0 & \\text{otherwise}\\end{cases}$\n",
    "\n",
    "$\\hspace{2em}\\forall t=\\{0,...,g\\}; k=\\{1,...,g\\}; t\\neq k$\n",
    "\n",
    "\n",
    "$F_{ki}\\hspace{1em}\\text{the finishing time of the last job of group } k \\text{ on machine } i$\n",
    "\n",
    "\n",
    "$S_{ki}\\hspace{1em}\\text{the starting time of the first job of group } k \\text{ on machine } i$\n",
    "\n",
    "$C_{ji}\\hspace{1em}\\text{completion time of the job } j \\text{ on machine } i$"
   ]
  },
  {
   "cell_type": "markdown",
   "metadata": {},
   "source": [
    "$\\text{Objective function: Total Weighted Tardiness}$\n",
    "\n",
    "$Minimise \\sum_{j=1}^{n_{o}}C_{j, m}$"
   ]
  },
  {
   "cell_type": "markdown",
   "metadata": {},
   "source": [
    "$\\text{Subject to:}$\n",
    "\n",
    "$\\text{(7) Completion time of a job on a machine should be greater than its completion time on the previous machine}$\n",
    "\n",
    "$C_{ji} \\geq C_{j(i-1)} + P_{ji}$\n",
    "\n",
    "$\\hspace{2em}\\forall j, i; C_{j0} = 0$\n",
    "\n",
    "\n",
    "$\\text{(8 and 9) Jobs are not processed simultaneously on each machine}$\n",
    "\n",
    "$C_{ji} \\geq C_{li} + P_{ji} - (1 - X_{lj}) * M$\n",
    "\n",
    "$C_{li} \\geq C_{ji} + P_{li} - X_{lj} * M$\n",
    "\n",
    "$\\hspace{2em}\\forall k, j, l\\in G_{k}, i, l < j$\n",
    "\n",
    "\n",
    "$\\text{(10 and 11) Jobs should start and finish between starting and finishing times of the group it belongs to}$\n",
    "\n",
    "$C_{ji} \\geq S_{ki} + P_{ji}$\n",
    "\n",
    "$F_{ki} \\geq C_{ji}$\n",
    "\n",
    "$\\hspace{2em}\\forall k, j\\in G_{k}, i$\n",
    "\n",
    "\n",
    "$\\text{(12) Each group on each machine starts processing after last job of the immediately previous group is finished}$\n",
    "\n",
    "$S_{ki} \\geq F_{ti} + a_{tki} - (1 - U_{tk}) * M$\n",
    "\n",
    "$\\hspace{2em}\\forall t\\in\\{0, 1,...,g\\}; k\\neq t; i; F_{0,i} = 0$\n",
    "\n",
    "\n",
    "$\\text{(13) Each group should have exactly one group as the previous processed group on each machine}$\n",
    "\n",
    "$\\sum_{t=0, t\\neq k}^{g}U_{tk} = 1$\n",
    "\n",
    "$\\hspace{2em}\\forall k$\n",
    "\n",
    "\n",
    "$\\text{(14) Each group has at most one successor group}$\n",
    "\n",
    "$\\sum_{k=1, t\\neq k}^{g}U_{tk} \\leq 1$\n",
    "\n",
    "$\\hspace{2em}\\forall t$\n",
    "\n",
    "\n",
    "$\\text{(15) The reference group -group zero- is assigned to the first slot}$\n",
    "\n",
    "$\\sum_{k=1}^{g}U_{0k} = 1$\n",
    "\n",
    "\n",
    "$\\text{(16) Each group can be processed before or after another group}$\n",
    "\n",
    "$U_{tk} + U_{kt} \\leq 1$\n",
    "\n",
    "$\\hspace{2em}\\forall t=\\{1,...,g-1\\}; k=\\{t+1,...,g\\}$\n",
    "\n",
    "\n",
    "$\\text{(17 and 18) Non-negativity and binary constraints}$\n",
    "\n",
    "$C_{kli}, S_{ki}, F_{ki}, T_{j} \\geq 0$\n",
    "\n",
    "$X_{lj}, U_{tk} \\in \\{0, 1\\}$"
   ]
  }
 ],
 "metadata": {
  "kernelspec": {
   "display_name": "Python 3",
   "language": "python",
   "name": "python3"
  },
  "language_info": {
   "codemirror_mode": {
    "name": "ipython",
    "version": 3
   },
   "file_extension": ".py",
   "mimetype": "text/x-python",
   "name": "python",
   "nbconvert_exporter": "python",
   "pygments_lexer": "ipython3",
   "version": "3.8.2"
  }
 },
 "nbformat": 4,
 "nbformat_minor": 4
}
